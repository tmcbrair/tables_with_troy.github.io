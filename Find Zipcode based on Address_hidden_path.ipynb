{
 "cells": [
  {
   "cell_type": "code",
   "execution_count": 3,
   "id": "4f772e2b",
   "metadata": {},
   "outputs": [
    {
     "name": "stdout",
     "output_type": "stream",
     "text": [
      "Zip codes have been added to 'C:/Users/Troy/Desktop/SQL Notes/Portfolio stuff/Milwaukee Crime Data Project/book2.xlsx'\n"
     ]
    }
   ],
   "source": [
    "import certifi\n",
    "import ssl\n",
    "import pandas as pd\n",
    "from geopy.geocoders import Nominatim\n",
    "\n",
    "def get_zip_code_from_address(address):\n",
    "    geolocator = Nominatim(user_agent=\"zip_code_finder\")\n",
    "    location = geolocator.geocode(address, timeout=None)\n",
    "\n",
    "    if location:\n",
    "        return location.address.split(\",\")[-2]\n",
    "    else:\n",
    "        return \"Location not found\"\n",
    "\n",
    "# Load the Excel file\n",
    "file_path = \"hidden_input_file.xlsx\"\n",
    "df = pd.read_excel(file_path)\n",
    "\n",
    "# Add a new column for zip codes\n",
    "df[\"Zip Code\"] = df[\"Address\"].apply(get_zip_code_from_address)\n",
    "\n",
    "# Save the updated DataFrame back to the Excel file\n",
    "output_file_path = \"hidden_output_File.xlsx\"\n",
    "df.to_excel(output_file_path, index=False)\n",
    "\n",
    "print(f\"Zip codes have been added to '{output_file_path}'\")"
   ]
  },
  {
   "cell_type": "code",
   "execution_count": null,
   "id": "dd480d5d",
   "metadata": {},
   "outputs": [],
   "source": []
  }
 ],
 "metadata": {
  "kernelspec": {
   "display_name": "Python 3 (ipykernel)",
   "language": "python",
   "name": "python3"
  },
  "language_info": {
   "codemirror_mode": {
    "name": "ipython",
    "version": 3
   },
   "file_extension": ".py",
   "mimetype": "text/x-python",
   "name": "python",
   "nbconvert_exporter": "python",
   "pygments_lexer": "ipython3",
   "version": "3.11.3"
  }
 },
 "nbformat": 4,
 "nbformat_minor": 5
}
