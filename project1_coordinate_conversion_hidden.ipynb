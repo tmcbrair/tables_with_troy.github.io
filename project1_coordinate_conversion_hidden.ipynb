{
 "cells": [
  {
   "cell_type": "code",
   "execution_count": 24,
   "id": "76ca6639",
   "metadata": {},
   "outputs": [],
   "source": [
    "import pandas as pd\n",
    "import geopandas as gpd\n",
    "from shapely.geometry import Point"
   ]
  },
  {
   "cell_type": "code",
   "execution_count": 25,
   "id": "712f1954",
   "metadata": {},
   "outputs": [],
   "source": [
    "geo_codes_df = pd.read_excel('Hidden_Input_Path.xlsx')"
   ]
  },
  {
   "cell_type": "code",
   "execution_count": null,
   "id": "7fee783b",
   "metadata": {},
   "outputs": [],
   "source": [
    "# Using google, was able to figure out that this specific area being searched is EPSG: 32054\n",
    "geo_codes_df['geometry'] = geo_codes_df.apply(lambda row: Point(row.RoughX, row.RoughY), axis=1)\n",
    "gdf_provided = gpd.GeoDataFrame(geo_codes_df, geometry='geometry', crs=\"EPSG:32054\")\n",
    "\n",
    "# Transforming the coordinates to WGS 84 (standard latitude and longitude)\n",
    "gdf_wgs84_provided = gdf_provided.to_crs(\"EPSG:4326\")\n",
    "\n",
    "# Extracting the transformed X and Y coordinates for use in Tableau\n",
    "gdf_wgs84_provided['Transformed_X'] = gdf_wgs84_provided['geometry'].x\n",
    "gdf_wgs84_provided['Transformed_Y'] = gdf_wgs84_provided['geometry'].y\n",
    "\n",
    "# Checking the transformed coordinates to make sure its in the correct format\n",
    "transformed_coordinates_preview = gdf_wgs84[['Transformed_X', 'Transformed_Y']].head()\n",
    "transformed_coordinates_preview"
   ]
  },
  {
   "cell_type": "code",
   "execution_count": null,
   "id": "955fdfb4",
   "metadata": {},
   "outputs": [],
   "source": [
    "# prints the final output as a new excel file with the Transformed X and Transformed Y coordinates\n",
    "gdf_wgs84_provided.to_excel('Hidden_Output_Path.xlsx', index=False) "
   ]
  }
 ],
 "metadata": {
  "kernelspec": {
   "display_name": "Python 3 (ipykernel)",
   "language": "python",
   "name": "python3"
  },
  "language_info": {
   "codemirror_mode": {
    "name": "ipython",
    "version": 3
   },
   "file_extension": ".py",
   "mimetype": "text/x-python",
   "name": "python",
   "nbconvert_exporter": "python",
   "pygments_lexer": "ipython3",
   "version": "3.11.3"
  }
 },
 "nbformat": 4,
 "nbformat_minor": 5
}
