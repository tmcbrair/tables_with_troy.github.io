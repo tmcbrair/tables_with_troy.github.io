{
 "cells": [
  {
   "cell_type": "code",
   "execution_count": 24,
   "id": "4b258db0",
   "metadata": {},
   "outputs": [],
   "source": [
    "import pandas as pd\n",
    "import geopandas as gpd\n",
    "from shapely.geometry import Point"
   ]
  },
  {
   "cell_type": "code",
   "execution_count": 25,
   "id": "6cae4f82",
   "metadata": {},
   "outputs": [],
   "source": [
    "geo_codes_df = pd.read_excel('C:/Users/Troy/Desktop/SQL Notes/Portfolio stuff/Milwaukee Crime Data Project/data/coordinates.xlsx')"
   ]
  },
  {
   "cell_type": "code",
   "execution_count": 26,
   "id": "3fabcd91",
   "metadata": {},
   "outputs": [
    {
     "data": {
      "text/html": [
       "<div>\n",
       "<style scoped>\n",
       "    .dataframe tbody tr th:only-of-type {\n",
       "        vertical-align: middle;\n",
       "    }\n",
       "\n",
       "    .dataframe tbody tr th {\n",
       "        vertical-align: top;\n",
       "    }\n",
       "\n",
       "    .dataframe thead th {\n",
       "        text-align: right;\n",
       "    }\n",
       "</style>\n",
       "<table border=\"1\" class=\"dataframe\">\n",
       "  <thead>\n",
       "    <tr style=\"text-align: right;\">\n",
       "      <th></th>\n",
       "      <th>Transformed_X</th>\n",
       "      <th>Transformed_Y</th>\n",
       "    </tr>\n",
       "  </thead>\n",
       "  <tbody>\n",
       "    <tr>\n",
       "      <th>0</th>\n",
       "      <td>-87.977070</td>\n",
       "      <td>43.133940</td>\n",
       "    </tr>\n",
       "    <tr>\n",
       "      <th>1</th>\n",
       "      <td>-87.969519</td>\n",
       "      <td>43.084614</td>\n",
       "    </tr>\n",
       "    <tr>\n",
       "      <th>2</th>\n",
       "      <td>-87.944940</td>\n",
       "      <td>43.065448</td>\n",
       "    </tr>\n",
       "    <tr>\n",
       "      <th>3</th>\n",
       "      <td>-87.930507</td>\n",
       "      <td>43.023093</td>\n",
       "    </tr>\n",
       "    <tr>\n",
       "      <th>4</th>\n",
       "      <td>-87.956753</td>\n",
       "      <td>43.100755</td>\n",
       "    </tr>\n",
       "  </tbody>\n",
       "</table>\n",
       "</div>"
      ],
      "text/plain": [
       "   Transformed_X  Transformed_Y\n",
       "0     -87.977070      43.133940\n",
       "1     -87.969519      43.084614\n",
       "2     -87.944940      43.065448\n",
       "3     -87.930507      43.023093\n",
       "4     -87.956753      43.100755"
      ]
     },
     "execution_count": 26,
     "metadata": {},
     "output_type": "execute_result"
    }
   ],
   "source": [
    "geo_codes_df['geometry'] = geo_codes_df.apply(lambda row: Point(row.RoughX, row.RoughY), axis=1)\n",
    "gdf_provided = gpd.GeoDataFrame(geo_codes_df, geometry='geometry', crs=\"EPSG:32054\")\n",
    "\n",
    "# Transforming the coordinates to WGS 84 (standard latitude and longitude)\n",
    "gdf_wgs84_provided = gdf_provided.to_crs(\"EPSG:4326\")\n",
    "\n",
    "# Extracting the transformed X and Y coordinates for use in Tableau\n",
    "gdf_wgs84_provided['Transformed_X'] = gdf_wgs84_provided['geometry'].x\n",
    "gdf_wgs84_provided['Transformed_Y'] = gdf_wgs84_provided['geometry'].y\n",
    "\n",
    "# Checking the transformed coordinates\n",
    "transformed_coordinates_preview = gdf_wgs84[['Transformed_X', 'Transformed_Y']].head()\n",
    "transformed_coordinates_preview"
   ]
  },
  {
   "cell_type": "code",
   "execution_count": 27,
   "id": "8abe8018",
   "metadata": {},
   "outputs": [],
   "source": [
    "gdf_wgs84_provided.to_excel('C:/Users/Troy/Desktop/SQL Notes/Portfolio stuff/Milwaukee Crime Data Project/data/coordinates_transformed.xlsx', index=False) "
   ]
  },
  {
   "cell_type": "raw",
   "id": "219b8428",
   "metadata": {},
   "source": []
  },
  {
   "cell_type": "code",
   "execution_count": null,
   "id": "fcc40f64",
   "metadata": {},
   "outputs": [],
   "source": []
  },
  {
   "cell_type": "code",
   "execution_count": null,
   "id": "e19ced1a",
   "metadata": {},
   "outputs": [],
   "source": []
  },
  {
   "cell_type": "code",
   "execution_count": null,
   "id": "a8b3485e",
   "metadata": {},
   "outputs": [],
   "source": []
  }
 ],
 "metadata": {
  "kernelspec": {
   "display_name": "Python 3 (ipykernel)",
   "language": "python",
   "name": "python3"
  },
  "language_info": {
   "codemirror_mode": {
    "name": "ipython",
    "version": 3
   },
   "file_extension": ".py",
   "mimetype": "text/x-python",
   "name": "python",
   "nbconvert_exporter": "python",
   "pygments_lexer": "ipython3",
   "version": "3.11.3"
  }
 },
 "nbformat": 4,
 "nbformat_minor": 5
}
