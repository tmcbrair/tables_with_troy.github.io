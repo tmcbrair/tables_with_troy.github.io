{
 "cells": [
  {
   "cell_type": "code",
   "execution_count": 24,
   "id": "8c0327a8",
   "metadata": {},
   "outputs": [],
   "source": [
    "import pandas as pd\n",
    "import geopandas as gpd\n",
    "from shapely.geometry import Point"
   ]
  },
  {
   "cell_type": "code",
   "execution_count": 25,
   "id": "55463608",
   "metadata": {},
   "outputs": [],
   "source": [
    "geo_codes_df = pd.read_excel('C:/Users/Troy/Desktop/SQL Notes/Portfolio stuff/Milwaukee Crime Data Project/data/coordinates.xlsx')"
   ]
  },
  {
   "cell_type": "code",
   "execution_count": null,
   "id": "9f32eb22",
   "metadata": {},
   "outputs": [],
   "source": [
    "geo_codes_df['geometry'] = geo_codes_df.apply(lambda row: Point(row.RoughX, row.RoughY), axis=1)\n",
    "gdf_provided = gpd.GeoDataFrame(geo_codes_df, geometry='geometry', crs=\"EPSG:32054\")\n",
    "\n",
    "# Transforming the coordinates to WGS 84 (standard latitude and longitude)\n",
    "gdf_wgs84_provided = gdf_provided.to_crs(\"EPSG:4326\")\n",
    "\n",
    "# Extracting the transformed X and Y coordinates for use in Tableau\n",
    "gdf_wgs84_provided['Transformed_X'] = gdf_wgs84_provided['geometry'].x\n",
    "gdf_wgs84_provided['Transformed_Y'] = gdf_wgs84_provided['geometry'].y\n",
    "\n",
    "# Checking the transformed coordinates\n",
    "transformed_coordinates_preview = gdf_wgs84[['Transformed_X', 'Transformed_Y']].head()\n",
    "transformed_coordinates_preview"
   ]
  },
  {
   "cell_type": "code",
   "execution_count": null,
   "id": "126b04dc",
   "metadata": {},
   "outputs": [],
   "source": [
    "gdf_wgs84_provided.to_excel('C:/Users/Troy/Desktop/SQL Notes/Portfolio stuff/Milwaukee Crime Data Project/data/coordinates_transformed.xlsx', index=False) "
   ]
  },
  {
   "cell_type": "code",
   "execution_count": null,
   "id": "1028188d",
   "metadata": {},
   "outputs": [],
   "source": []
  },
  {
   "cell_type": "code",
   "execution_count": null,
   "id": "efaa41db",
   "metadata": {},
   "outputs": [],
   "source": []
  },
  {
   "cell_type": "code",
   "execution_count": null,
   "id": "4eff7906",
   "metadata": {},
   "outputs": [],
   "source": []
  },
  {
   "cell_type": "code",
   "execution_count": null,
   "id": "18863234",
   "metadata": {},
   "outputs": [],
   "source": []
  }
 ],
 "metadata": {
  "kernelspec": {
   "display_name": "Python 3 (ipykernel)",
   "language": "python",
   "name": "python3"
  },
  "language_info": {
   "codemirror_mode": {
    "name": "ipython",
    "version": 3
   },
   "file_extension": ".py",
   "mimetype": "text/x-python",
   "name": "python",
   "nbconvert_exporter": "python",
   "pygments_lexer": "ipython3",
   "version": "3.11.3"
  }
 },
 "nbformat": 4,
 "nbformat_minor": 5
}
